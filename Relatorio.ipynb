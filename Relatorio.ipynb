{
 "cells": [
  {
   "attachments": {},
   "cell_type": "markdown",
   "metadata": {},
   "source": [
    "<a class=\"anchor\" id=\"section-0\"></a>\n",
    "<img src=\"https://i.imgur.com/lTCPbz0.jpeg\" alt='logo puc-sp' width='30%' align='left'>\n",
    "\n",
    "### Pontifícia Universidade Católica de São Paulo (PUC-SP)\n",
    "\n",
    "<h1 style=font-size:30px>Prova de Conceito: Google RPC</h1>\n",
    "\n",
    "\n",
    "### Bacharelado em Ciência de Dados e Inteligência Artificial\n",
    "\n",
    "#### Turma: CDIA21-MA\n",
    "\n",
    "**Professor:** Carlos Eduardo Paes\n",
    "\n",
    "### Integrantes\n",
    "\n",
    "<table align=\"left\" style=font-size:15px>\n",
    "<thead>\n",
    "  <tr>\n",
    "    <th style=\"text-align:left;\">Nome</th>\n",
    "    <th style=\"text-align:left;\">RA</th>\n",
    "  </tr>\n",
    "</thead>\n",
    "<tbody>\n",
    "  <tr>\n",
    "    <td style=\"text-align:left;\">Heloisa Mariani Rodrigues</td>\n",
    "    <td>RA00297685</td>\n",
    "  </tr>\n",
    "  <tr>\n",
    "    <td style=\"text-align:left;\">João Pedro Taves Araujo</td>\n",
    "    <td>RA00297753</td>\n",
    "    \n",
    "  </tr>\n",
    "  <tr>\n",
    "    <td style=\"text-align:left;\">Lucas Lopes Amorim</td>\n",
    "    <td>RA00303799</td>\n",
    "    \n",
    "  </tr>\n",
    "  <tr>\n",
    "    <td style=\"text-align:left;\">Lucca Cerf Costa</td>\n",
    "    <td>RA00304770</td>\n",
    "  </tr>\n",
    "    <tr>\n",
    "    <td style=\"text-align:left;\">Simeon Chavdar Ivanov</td>\n",
    "    <td>RA00297777</td>\n",
    "  </tr>\n",
    "</tbody>\n",
    "</table>"
   ]
  },
  {
   "attachments": {},
   "cell_type": "markdown",
   "metadata": {},
   "source": [
    "## Google RPC"
   ]
  },
  {
   "attachments": {},
   "cell_type": "markdown",
   "metadata": {},
   "source": [
    "<p align=\"center\">\n",
    "<img src=\"data:image/webp;base64,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\" alt=\"gRPC Diagram\" /></p>"
   ]
  },
  {
   "attachments": {},
   "cell_type": "markdown",
   "metadata": {},
   "source": [
    "O gRPC é uma estrutura de código aberto e alto desempenho criada pelo Google. O gRPC segue amplamente a semântica HTTP sobre HTTP/2 e, assim permite que você use o *streaming full-duplex*, possibilitando a comunicação entre diferentes sistemas via conexão de rede.\n",
    "\n",
    "A proposta do gRPC é que o cliente **interaja com o servidor por meio de chamadas de funções simples**, ou seja, de interfaces de códigos geradas automaticamente pela própria aplicação do gRPC. Isso significa que você precisa apenas implementar sua lógica de programação, o que facilita muito a adoção desse recurso.\n",
    "\n",
    "Com isso, você tem algumas vantagens na sua arquitetura de microsserviços, como, por exemplo:\n",
    "\n",
    "Fácil o contrato entre cliente e servidor;Melhor o desempenho dos serviços;Features nativas do HTTP/2, como streaming de dados, *load balance,* monitoramento etc.\n",
    "\n",
    "Em resumo, é como se você declarasse funções e classes em um back-end e pudesse acessá-los no front-end graças ao arquivo de contrato que contém suas interfaces (serviços e DTOs)."
   ]
  },
  {
   "attachments": {},
   "cell_type": "markdown",
   "metadata": {},
   "source": [
    "## Prova de Conceito"
   ]
  },
  {
   "attachments": {},
   "cell_type": "markdown",
   "metadata": {},
   "source": [
    "Para criar uma POC em Python usando gRPC, vamos criar um exemplo simples de comunicação entre um servidor e um cliente. O servidor será responsável por receber uma mensagem do cliente e retornar uma resposta. Vamos seguir os seguintes passos:"
   ]
  },
  {
   "attachments": {},
   "cell_type": "markdown",
   "metadata": {},
   "source": [
    "### 1. Instalar as bibliotecas necessárias:"
   ]
  },
  {
   "cell_type": "code",
   "execution_count": 1,
   "metadata": {},
   "outputs": [
    {
     "name": "stderr",
     "output_type": "stream",
     "text": [
      "'pip' is not recognized as an internal or external command,\n",
      "operable program or batch file.\n"
     ]
    }
   ],
   "source": [
    "# Instalar as bibliotecas necessárias:\n",
    "!pip install grpcio grpcio-tools"
   ]
  },
  {
   "attachments": {},
   "cell_type": "markdown",
   "metadata": {},
   "source": [
    "### 2. Definir o arquivo proto. Precisaremos criar um arquivo chamado example.proto com o seguinte conteúdo:"
   ]
  },
  {
   "cell_type": "code",
   "execution_count": 1,
   "metadata": {},
   "outputs": [
    {
     "name": "stdout",
     "output_type": "stream",
     "text": [
      "Writing example.proto\n"
     ]
    }
   ],
   "source": [
    "%%writefile example.proto\n",
    "syntax = \"proto3\";\n",
    "\n",
    "package example;\n",
    "\n",
    "service ExampleService {\n",
    "  rpc SayHello (HelloRequest) returns (HelloResponse) {}\n",
    "}\n",
    "\n",
    "message HelloRequest {\n",
    "  string name = 1;\n",
    "}\n",
    "\n",
    "message HelloResponse {\n",
    "  string message = 1;\n",
    "}\n"
   ]
  },
  {
   "attachments": {},
   "cell_type": "markdown",
   "metadata": {},
   "source": [
    "Esse arquivo define um serviço chamado `ExampleService` com um método chamado `SayHello`, que recebe um `HelloRequest` contendo um nome e retorna um `HelloResponse` contendo uma mensagem."
   ]
  },
  {
   "attachments": {},
   "cell_type": "markdown",
   "metadata": {},
   "source": [
    "### 3. Gerar os códigos fonte a partir do arquivo proto. Para isso, vamos executar o seguinte comando:"
   ]
  },
  {
   "cell_type": "code",
   "execution_count": 2,
   "metadata": {},
   "outputs": [],
   "source": [
    "!python -m grpc_tools.protoc -I . --python_out=. --grpc_python_out=. example.proto"
   ]
  },
  {
   "attachments": {},
   "cell_type": "markdown",
   "metadata": {},
   "source": [
    "Esse comando vai gerar os arquivos `example_pb2.py` e `example_pb2_grpc.py`, que contêm as classes necessárias para implementar o serviço"
   ]
  },
  {
   "attachments": {},
   "cell_type": "markdown",
   "metadata": {},
   "source": [
    "### 4. Implementar o servidor. Vamos criar um arquivo chamado server.py com o seguinte conteúdo:"
   ]
  },
  {
   "cell_type": "code",
   "execution_count": 3,
   "metadata": {},
   "outputs": [
    {
     "name": "stdout",
     "output_type": "stream",
     "text": [
      "Writing server.py\n"
     ]
    }
   ],
   "source": [
    "%%writefile server.py\n",
    "import grpc\n",
    "import example_pb2\n",
    "import example_pb2_grpc\n",
    "import concurrent.futures\n",
    "\n",
    "class ExampleServicer(example_pb2_grpc.ExampleServiceServicer):\n",
    "    def SayHello(self, request, context):\n",
    "        message = f\"Hello, {request.name}!\"\n",
    "        ip = context.peer()  # acessa o IP do cliente\n",
    "        print(f\"Received message from {ip}: {message}\")  # adiciona essa linha para imprimir o IP do cliente\n",
    "\n",
    "        return example_pb2.HelloResponse(message=message)\n",
    "\n",
    "def serve():\n",
    "    server = grpc.server(concurrent.futures.ThreadPoolExecutor(max_workers=10))\n",
    "    example_pb2_grpc.add_ExampleServiceServicer_to_server(ExampleServicer(), server)\n",
    "    server.add_insecure_port('[::]:50051')\n",
    "    server.start()\n",
    "    server.wait_for_termination()\n",
    "\n",
    "if __name__ == '__main__':\n",
    "    print('Executando servidor gRPC...')\n",
    "    serve()\n"
   ]
  },
  {
   "attachments": {},
   "cell_type": "markdown",
   "metadata": {},
   "source": [
    "Esse código implementa o serviço `ExampleServicer`, que recebe um `HelloRequest` e retorna um `HelloResponse` com uma mensagem de boas-vindas contendo o nome fornecido. O servidor é iniciado e configurado para escutar na porta 50051."
   ]
  },
  {
   "attachments": {},
   "cell_type": "markdown",
   "metadata": {},
   "source": [
    "### 5. Implementar o cliente. Vamos criar um arquivo chamado client.py com o seguinte conteúdo:"
   ]
  },
  {
   "cell_type": "code",
   "execution_count": 4,
   "metadata": {},
   "outputs": [
    {
     "name": "stdout",
     "output_type": "stream",
     "text": [
      "Writing client.py\n"
     ]
    }
   ],
   "source": [
    "%%writefile client.py\n",
    "import grpc\n",
    "import example_pb2\n",
    "import example_pb2_grpc\n",
    "\n",
    "def run():\n",
    "    with grpc.insecure_channel('localhost:50051') as channel:\n",
    "        stub = example_pb2_grpc.ExampleServiceStub(channel)\n",
    "        response = stub.SayHello(example_pb2.HelloRequest(name='World'))\n",
    "        print(response.message)\n",
    "\n",
    "if __name__ == '__main__':\n",
    "    run()\n"
   ]
  },
  {
   "attachments": {},
   "cell_type": "markdown",
   "metadata": {},
   "source": [
    "Esse código cria um canal de comunicação com o servidor na porta 50051 e chama o método `SayHello`, passando um `HelloRequest` com o nome \"World\". A resposta é impressa no console."
   ]
  },
  {
   "attachments": {},
   "cell_type": "markdown",
   "metadata": {},
   "source": [
    "### 6. Executar o servidor e o cliente em terminais separados:\n",
    "\n",
    "\n",
    "#### Terminal 1\n",
    "```bash\n",
    "python server.py\n",
    "```\n",
    "\n",
    "\n",
    "#### Terminal 2\n",
    "```bash\n",
    "python client.py\n",
    "```"
   ]
  }
 ],
 "metadata": {
  "kernelspec": {
   "display_name": "base",
   "language": "python",
   "name": "python3"
  },
  "language_info": {
   "codemirror_mode": {
    "name": "ipython",
    "version": 3
   },
   "file_extension": ".py",
   "mimetype": "text/x-python",
   "name": "python",
   "nbconvert_exporter": "python",
   "pygments_lexer": "ipython3",
   "version": "3.9.15"
  },
  "orig_nbformat": 4
 },
 "nbformat": 4,
 "nbformat_minor": 2
}
